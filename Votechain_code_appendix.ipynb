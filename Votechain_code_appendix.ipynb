{
  "nbformat": 4,
  "nbformat_minor": 0,
  "metadata": {
    "kernelspec": {
      "display_name": "Python 3",
      "language": "python",
      "name": "python3"
    },
    "language_info": {
      "codemirror_mode": {
        "name": "ipython",
        "version": 3
      },
      "file_extension": ".py",
      "mimetype": "text/x-python",
      "name": "python",
      "nbconvert_exporter": "python",
      "pygments_lexer": "ipython3",
      "version": "3.8.3"
    },
    "colab": {
      "name": "CS143_Team_10_Votechain_code_appendix.ipynb",
      "provenance": [],
      "collapsed_sections": []
    }
  },
  "cells": [
    {
      "cell_type": "markdown",
      "metadata": {
        "id": "vKHmfKFKfAOE"
      },
      "source": [
        "## CS143 Final Project Code Appendix\n",
        "**Fall 2020, \n",
        "Written by Daniel Cox\n",
        "\n",
        "This notebook contains python code to instatiate and demonstrate a prototype    \n",
        "blockchain to be used with our \"Votechain\" voting system.  \n",
        "\n",
        "\n",
        "It includes the following:\n"
      ]
    },
    {
      "cell_type": "markdown",
      "metadata": {
        "id": "irkf8GhFfAOL"
      },
      "source": [
        "**Classes**\n",
        "* Block\n",
        "* Blockchain"
      ]
    },
    {
      "cell_type": "markdown",
      "metadata": {
        "id": "ryxY8Du3fAOL"
      },
      "source": [
        "**Functions**\n",
        "* create_key_pair\n",
        "* generate_signature\n",
        "* verify_signature\n",
        "* create_voter_key_dictionary"
      ]
    },
    {
      "cell_type": "markdown",
      "metadata": {
        "id": "M353f3pxfAOL"
      },
      "source": [
        "**Demonstrations**\n",
        "* Creating fake voters, assigning them public and private keys and creating an empty Votechain\n",
        "* Adding vote blocks to the votechain, one for each voter\n",
        "* Printing out each voter's password and vote\n",
        "* Verifying the signatures on all blocks with the public key of each block.\n",
        "* Verifying the hashes on all blocks\n",
        "* Verifying that the timestamps on all blocks are before the end of the election period\n",
        "* Tallying Votes\n",
        "* Trying to illegally change the vote on a block \n",
        "* Trying to illegally change the signature on a block\n",
        "* Trying to illegally change the password on a block\n",
        "* Trying to illegally change the timestamp on a block\n",
        "* Finding a block by its public key\n",
        "* Viewing a particular block\n",
        "* Validating a particular block\n",
        "* Stripping all public keys from the votechain"
      ]
    },
    {
      "cell_type": "markdown",
      "metadata": {
        "id": "-BxSxnfyfAOM"
      },
      "source": [
        "### Imported python packages"
      ]
    },
    {
      "cell_type": "code",
      "metadata": {
        "colab": {
          "base_uri": "https://localhost:8080/"
        },
        "id": "9uv9qIiImCXa",
        "outputId": "7a6aaeda-48b1-4d09-f683-5c7816ed9574"
      },
      "source": [
        "! pip install pycrypto"
      ],
      "execution_count": null,
      "outputs": [
        {
          "output_type": "stream",
          "text": [
            "Requirement already satisfied: pycrypto in /usr/local/lib/python3.6/dist-packages (2.6.1)\n"
          ],
          "name": "stdout"
        }
      ]
    },
    {
      "cell_type": "code",
      "metadata": {
        "id": "TpuhTfxkfAOM"
      },
      "source": [
        "import numpy as np\n",
        "import hashlib\n",
        "import json\n",
        "import time\n",
        "from datetime import datetime\n",
        "from Crypto.PublicKey import RSA\n",
        "from hashlib import sha512\n",
        "import pandas as pd"
      ],
      "execution_count": null,
      "outputs": []
    },
    {
      "cell_type": "markdown",
      "metadata": {
        "id": "kahSANEkfAOM"
      },
      "source": [
        "### Classes"
      ]
    },
    {
      "cell_type": "code",
      "metadata": {
        "id": "J5tIErBVfAON"
      },
      "source": [
        "\n",
        "# Class to represent a voting transaction as a block\n",
        "class Block():\n",
        "    def __init__(self, index, password, signature, public_key, vote):\n",
        "        self.index = index\n",
        "        self.password = password\n",
        "        self.timestamp = time.time()\n",
        "        self.vote = vote\n",
        "        self.signature = signature\n",
        "        self.public_key = public_key\n",
        "        self.hash = self.calculate_hash()\n",
        "\n",
        "    def calculate_hash(self):\n",
        "        return hashlib.sha256(\n",
        "            str(self.index).encode('utf-8') + str(self.timestamp).encode('utf-8') + self.password.encode('utf-8') \\\n",
        "            + str(self.signature).encode('utf-8') + str(self.vote).encode('utf-8'))\n",
        "\n",
        "    def check_signature(self, public_key=None):\n",
        "        if public_key == None:\n",
        "            public_key = self.public_key\n",
        "        hash = int.from_bytes(sha512(self.password.encode('utf-8')).digest(), byteorder='big')\n",
        "        hashFromSignature = pow(self.signature, public_key[1], public_key[0])\n",
        "        if hash == hashFromSignature:\n",
        "            return True\n",
        "        else:\n",
        "            return False\n",
        "\n",
        "    def check_hash(self, hash=None):\n",
        "        if hash == None:\n",
        "            hash = self.hash\n",
        "        if hash.hexdigest() == self.calculate_hash().hexdigest():\n",
        "            return True\n",
        "        else:\n",
        "            return False\n",
        "        \n",
        "    def check_timestamp(self, end_time, mask='%m/%d/%Y %I:%M%p'):\n",
        "        end = datetime.strptime(end_time, mask)\n",
        "        vote = datetime.fromtimestamp(self.timestamp)\n",
        "        timediff = end - vote\n",
        "        if timediff.total_seconds() >= 0:\n",
        "            return True\n",
        "        else:\n",
        "            return False\n",
        "\n",
        "# Class to represent a voting Blockchain\n",
        "class Blockchain():\n",
        "    def __init__(self):\n",
        "        self.chain_index = 0\n",
        "        self.chain = [self.create_genesis_block()]\n",
        "\n",
        "    def create_genesis_block(self):\n",
        "        return Block(0, 'none', 'none', 'none', 'none')\n",
        "\n",
        "    def get_last_block(self):\n",
        "        return self.chain[-1]\n",
        "\n",
        "    def add_block(self, password, signature, public_key, vote):\n",
        "        index = self.chain_index + 1\n",
        "        new_block = Block(index, password, signature, public_key, vote)\n",
        "        self.chain.append(new_block)\n",
        "        self.chain_index += 1\n",
        "\n",
        "    def check_hashes(self):\n",
        "        bad_hashes = []\n",
        "        for i in range(1, len(self.chain)):\n",
        "            current_block = self.chain[i]\n",
        "            if current_block.check_hash() == False:\n",
        "                bad_hashes.append(i)\n",
        "        if bad_hashes:\n",
        "            print(f'The following block\\'s hashes are invalid {bad_hashes}')\n",
        "        else:\n",
        "            print('All hashes valid')\n",
        "\n",
        "    def check_signatures(self):\n",
        "        bad_signatures = []\n",
        "        for i in range(1, len(self.chain)):\n",
        "            current_block = self.chain[i]\n",
        "            if current_block.check_signature() == False:\n",
        "                bad_signatures.append(i)\n",
        "        if bad_signatures:\n",
        "            print(f'The following block\\'s signatures are invalid {bad_signatures}')\n",
        "        else:\n",
        "            print('All signatures valid')\n",
        "            \n",
        "    def check_timestamps(self, end_time):\n",
        "        bad_timestamps = []\n",
        "        for i in range(1, len(self.chain)):\n",
        "            current_block = self.chain[i]\n",
        "            if current_block.check_timestamp(end_time) == False:\n",
        "                bad_timestamps.append(i)\n",
        "        if bad_timestamps:\n",
        "            print(f'The following block\\'s timestamps are invalid {bad_signatures}')\n",
        "        else:\n",
        "            print('All timestamps valid')\n",
        "\n",
        "    def list_votes(self): \n",
        "        votes = {}\n",
        "        for i in range(1, len(self.chain)):\n",
        "            current_block = self.chain[i]\n",
        "            current_key = current_block.signature\n",
        "            votes[current_key] = current_block.vote\n",
        "        return list(votes.values())\n",
        "\n",
        "    def count_votes(self): # if multiple votes from the same voter, counts only last\n",
        "        votes = pd.Series(self.list_votes()).value_counts()\n",
        "        for idx in votes.index:\n",
        "            print(idx, votes[idx])\n",
        "\n",
        "    def find_block(self, public_key):\n",
        "        for i in range(1, len(self.chain)):\n",
        "            current_block = self.chain[i]\n",
        "            if public_key == current_block.public_key:\n",
        "                print(f'The desired block is block {current_block.index}')\n",
        "                return\n",
        "        print(f'public key {public_key} not found')\n",
        "\n",
        "    def view_block(self, index_number):\n",
        "        block = self.chain[index_number]\n",
        "        print(f'Index number: {block.index}')\n",
        "        print(f'Password: {block.password}')\n",
        "        print(f'Public_key: {block.public_key}')\n",
        "        print(f'Time_stamp: {block.timestamp}')\n",
        "        print(f'Vote: {block.vote}')\n",
        "\n",
        "    def validate_block(self, index_number, end_time):\n",
        "        block = self.chain[index_number]\n",
        "        if block.check_hash() == False:\n",
        "            print('Invalid Hash')\n",
        "        else:\n",
        "            print('Valid Hash')\n",
        "        if block.check_signature() == False:\n",
        "            print('Invalid Signature')\n",
        "        else:\n",
        "            print('Valid Signature')\n",
        "        if block.check_timestamp(end_time) == False:\n",
        "            print('Invalid timestamp')\n",
        "        else:\n",
        "            print('Valid timestamp')\n",
        "            \n",
        "    def strip_public_keys(self):\n",
        "        for i in range(1, len(self.chain)):\n",
        "            current_block = self.chain[i]\n",
        "            current_block.public_key = 0\n",
        "        print(f'All public keys set to 0')\n",
        "        \n",
        "\n"
      ],
      "execution_count": null,
      "outputs": []
    },
    {
      "cell_type": "markdown",
      "metadata": {
        "id": "6GGBENtnfAON"
      },
      "source": [
        "### Functions"
      ]
    },
    {
      "cell_type": "code",
      "metadata": {
        "id": "hDw76YhhfAON"
      },
      "source": [
        "# Generate a public/private key pair\n",
        "def create_key_pair():\n",
        "    keyPair = (RSA.generate(bits=1024))\n",
        "    private_key = (keyPair.n , keyPair.d)\n",
        "    public_key = (keyPair.n , keyPair.e)\n",
        "    return (private_key , public_key)\n",
        "\n",
        "# Convert a name to a signature using a private key\n",
        "def generate_signature(name, private_key):\n",
        "    hash = int.from_bytes(sha512(name.encode('utf-8')).digest(), byteorder='big')\n",
        "    signature = pow(hash, private_key[1], private_key[0])\n",
        "    return signature\n",
        "\n",
        "\n",
        "# Check if a signature matches a name using a public key\n",
        "def verify_signature(name, signature, public_key):\n",
        "    hash = int.from_bytes(sha512(name.encode('utf-8')).digest(), byteorder='big')\n",
        "    hashFromSignature = pow(signature, public_key[1], public_key[0])\n",
        "    if hash == hashFromSignature:\n",
        "        return True\n",
        "    else:\n",
        "        return False\n",
        "\n",
        "# Given a list of voters names, create a voter dictionary with keys equal to the voter's name\n",
        "# and within each dictionary another dictionary with keys = 'private_key' and 'public_key'\n",
        "def create_voter_key_dictionary(voters):\n",
        "    voters_dictionary = {}\n",
        "    for i in range(len(voters)):\n",
        "        voter_keys = {}\n",
        "        key_pair = create_key_pair()\n",
        "        voter_keys['private_key'] = key_pair[0]\n",
        "        voter_keys['public_key'] = key_pair[1]\n",
        "        voters_dictionary[voters[i]] = voter_keys\n",
        "    return voters_dictionary\n"
      ],
      "execution_count": null,
      "outputs": []
    },
    {
      "cell_type": "markdown",
      "metadata": {
        "id": "RbIeG0X0fAON"
      },
      "source": [
        "### Demonstrations"
      ]
    },
    {
      "cell_type": "markdown",
      "metadata": {
        "id": "HjKqtOHGfAOO"
      },
      "source": [
        "*Creating fake voters assigning them public and private keys and creating an empty Votechain*"
      ]
    },
    {
      "cell_type": "code",
      "metadata": {
        "id": "Zn85PG9ofAOO",
        "colab": {
          "base_uri": "https://localhost:8080/"
        },
        "outputId": "6488b8da-0da8-45e7-f733-e57d01e66633"
      },
      "source": [
        "# Creating a list of voter passwords\n",
        "voters = ['XXC54372', 'YYYF651_22', 'A4326dEFt7', 'BBC&&Djk2', '111_01-3AB', 'NNNICE_043', 'Howiz76234',\n",
        "         'LB_454545', 'Sam_Great5', 'Holy_6632z']\n",
        "\n",
        "possible_votes = ['Biden','My Dog'] # — will randomly assign votes\n",
        "\n",
        "# Giving each voter a public/private key pair and storing them in a dictionary along with the voter's name\n",
        "# This would be done when a voter registers to vote\n",
        "voter_dict = create_voter_key_dictionary(voters)\n",
        "\n",
        "# Creating a Blockchain instance\n",
        "voter_blockchain = Blockchain()\n",
        "print('Voter passwords')\n",
        "for p in voters:\n",
        "    print(p)"
      ],
      "execution_count": null,
      "outputs": [
        {
          "output_type": "stream",
          "text": [
            "Voter passwords\n",
            "XXC54372\n",
            "YYYF651_22\n",
            "A4326dEFt7\n",
            "BBC&&Djk2\n",
            "111_01-3AB\n",
            "NNNICE_043\n",
            "Howiz76234\n",
            "LB_454545\n",
            "Sam_Great5\n",
            "Holy_6632z\n"
          ],
          "name": "stdout"
        }
      ]
    },
    {
      "cell_type": "markdown",
      "metadata": {
        "id": "untskjQgfAOP"
      },
      "source": [
        "*Adding vote blocks to the votechain, one for each voter*"
      ]
    },
    {
      "cell_type": "code",
      "metadata": {
        "id": "uPzVNuKpfAOP",
        "colab": {
          "base_uri": "https://localhost:8080/"
        },
        "outputId": "364ad0d0-de81-41cc-e155-cb12134d558c"
      },
      "source": [
        "for password in voter_dict.keys():\n",
        "    signature  = generate_signature(password,  voter_dict[password]['private_key'])\n",
        "    voter_blockchain.add_block(password, signature, voter_dict[password]['public_key'], np.random.choice(possible_votes))\n",
        "print(f'The votechain now has {len(voter_blockchain.chain)-1} vote blocks')"
      ],
      "execution_count": null,
      "outputs": [
        {
          "output_type": "stream",
          "text": [
            "The votechain now has 10 vote blocks\n"
          ],
          "name": "stdout"
        }
      ]
    },
    {
      "cell_type": "markdown",
      "metadata": {
        "id": "bptzd3qBfAOP"
      },
      "source": [
        "*Printing out each voter's password and vote*"
      ]
    },
    {
      "cell_type": "code",
      "metadata": {
        "id": "NA0OiHc_fAOQ",
        "colab": {
          "base_uri": "https://localhost:8080/"
        },
        "outputId": "38f02ccd-de95-40ad-b346-b0e7091386d6"
      },
      "source": [
        "for block in voter_blockchain.chain[1:]:\n",
        "    print(block.password, block.vote)"
      ],
      "execution_count": null,
      "outputs": [
        {
          "output_type": "stream",
          "text": [
            "XXC54372 Biden\n",
            "YYYF651_22 My Dog\n",
            "A4326dEFt7 Biden\n",
            "BBC&&Djk2 Biden\n",
            "111_01-3AB Biden\n",
            "NNNICE_043 Biden\n",
            "Howiz76234 Biden\n",
            "LB_454545 My Dog\n",
            "Sam_Great5 My Dog\n",
            "Holy_6632z My Dog\n"
          ],
          "name": "stdout"
        }
      ]
    },
    {
      "cell_type": "markdown",
      "metadata": {
        "id": "U2l3oplwfAOQ"
      },
      "source": [
        "*Verifying the signatures on all blocks with the public key of each block*"
      ]
    },
    {
      "cell_type": "code",
      "metadata": {
        "id": "u8mjMwoHfAOR",
        "colab": {
          "base_uri": "https://localhost:8080/"
        },
        "outputId": "acc3761f-cd6c-4e69-f165-b193b4e1e45d"
      },
      "source": [
        "voter_blockchain.check_signatures()"
      ],
      "execution_count": null,
      "outputs": [
        {
          "output_type": "stream",
          "text": [
            "All signatures valid\n"
          ],
          "name": "stdout"
        }
      ]
    },
    {
      "cell_type": "markdown",
      "metadata": {
        "id": "dUfUFndRfAOR"
      },
      "source": [
        "*Verifying that the data on all blocks has not been changed since the original vote block was created*"
      ]
    },
    {
      "cell_type": "code",
      "metadata": {
        "id": "FQf9f270fAOR",
        "colab": {
          "base_uri": "https://localhost:8080/"
        },
        "outputId": "8f4445c7-f33f-47a8-f021-b3be6b646818"
      },
      "source": [
        "voter_blockchain.check_hashes()"
      ],
      "execution_count": null,
      "outputs": [
        {
          "output_type": "stream",
          "text": [
            "All hashes valid\n"
          ],
          "name": "stdout"
        }
      ]
    },
    {
      "cell_type": "markdown",
      "metadata": {
        "id": "zYrvWr0cfAOS"
      },
      "source": [
        "*Verifying that the timestamps on all blocks are before the end of the election period*"
      ]
    },
    {
      "cell_type": "code",
      "metadata": {
        "id": "osxdJ6lDfAOS",
        "colab": {
          "base_uri": "https://localhost:8080/"
        },
        "outputId": "cd3c4292-ba50-48b2-fb0b-536702df564f"
      },
      "source": [
        "end_time = '12/17/2020 11:59PM'\n",
        "voter_blockchain.check_timestamps(end_time)"
      ],
      "execution_count": null,
      "outputs": [
        {
          "output_type": "stream",
          "text": [
            "All timestamps valid\n"
          ],
          "name": "stdout"
        }
      ]
    },
    {
      "cell_type": "markdown",
      "metadata": {
        "id": "BS0h_WVCfAOS"
      },
      "source": [
        "*Counting Votes*"
      ]
    },
    {
      "cell_type": "code",
      "metadata": {
        "id": "r7eL3JFifAOS",
        "colab": {
          "base_uri": "https://localhost:8080/"
        },
        "outputId": "eec85d38-a38f-44ff-d8c6-b0a151a020fd"
      },
      "source": [
        "voter_blockchain.count_votes()"
      ],
      "execution_count": null,
      "outputs": [
        {
          "output_type": "stream",
          "text": [
            "Biden 6\n",
            "My Dog 4\n"
          ],
          "name": "stdout"
        }
      ]
    },
    {
      "cell_type": "markdown",
      "metadata": {
        "id": "8A1Te4y_fAOT"
      },
      "source": [
        "*Trying to illegally change the vote on block 1*"
      ]
    },
    {
      "cell_type": "code",
      "metadata": {
        "id": "P2vGWBIzfAOT",
        "colab": {
          "base_uri": "https://localhost:8080/"
        },
        "outputId": "6fc0f8bb-0e43-4a2f-c7b9-d90bfa1c3543"
      },
      "source": [
        "voter_blockchain.chain[1].vote = 'Dan Cox'\n",
        "voter_blockchain.check_hashes()"
      ],
      "execution_count": null,
      "outputs": [
        {
          "output_type": "stream",
          "text": [
            "The following block's hashes are invalid [1]\n"
          ],
          "name": "stdout"
        }
      ]
    },
    {
      "cell_type": "markdown",
      "metadata": {
        "id": "qmQeurpxfAOT"
      },
      "source": [
        "*Trying to illegally change the signature on block 3*"
      ]
    },
    {
      "cell_type": "code",
      "metadata": {
        "id": "JlUAKC4BfAOT",
        "colab": {
          "base_uri": "https://localhost:8080/"
        },
        "outputId": "073c8d9a-dd0e-44df-8b57-5239c3b42289"
      },
      "source": [
        "voter_blockchain.chain[3].signature= voter_blockchain.chain[2].signature\n",
        "voter_blockchain.check_signatures()"
      ],
      "execution_count": null,
      "outputs": [
        {
          "output_type": "stream",
          "text": [
            "The following block's signatures are invalid [3]\n"
          ],
          "name": "stdout"
        }
      ]
    },
    {
      "cell_type": "markdown",
      "metadata": {
        "id": "xgLSP1AJfAOU"
      },
      "source": [
        "*Trying to illegally change the password on block 3*"
      ]
    },
    {
      "cell_type": "code",
      "metadata": {
        "id": "R0ZrQksbfAOU",
        "colab": {
          "base_uri": "https://localhost:8080/"
        },
        "outputId": "1ec5be6a-be39-4e57-85a5-af0c8d4e9bae"
      },
      "source": [
        "voter_blockchain.chain[3].name = 'XX437p5'\n",
        "voter_blockchain.check_hashes()"
      ],
      "execution_count": null,
      "outputs": [
        {
          "output_type": "stream",
          "text": [
            "The following block's hashes are invalid [1, 3]\n"
          ],
          "name": "stdout"
        }
      ]
    },
    {
      "cell_type": "markdown",
      "metadata": {
        "id": "Dht-WHVdfAOU"
      },
      "source": [
        "Trying to illegally change the timestamp on block 5"
      ]
    },
    {
      "cell_type": "code",
      "metadata": {
        "id": "75E3ItryfAOU",
        "colab": {
          "base_uri": "https://localhost:8080/"
        },
        "outputId": "2d629d16-f393-4d77-f6c2-9bedf2ea46bb"
      },
      "source": [
        "voter_blockchain.chain[5].timestamp= time.time()\n",
        "voter_blockchain.check_hashes()"
      ],
      "execution_count": null,
      "outputs": [
        {
          "output_type": "stream",
          "text": [
            "The following block's hashes are invalid [1, 3, 5]\n"
          ],
          "name": "stdout"
        }
      ]
    },
    {
      "cell_type": "markdown",
      "metadata": {
        "id": "khrUNW0AfAOU"
      },
      "source": [
        "*Finding block 5 by its public key*"
      ]
    },
    {
      "cell_type": "code",
      "metadata": {
        "id": "8LfmINLvfAOV",
        "colab": {
          "base_uri": "https://localhost:8080/"
        },
        "outputId": "b1127e92-bec5-4b60-b8a9-55246bd39939"
      },
      "source": [
        "voter_blockchain.find_block(voter_blockchain.chain[5].public_key)"
      ],
      "execution_count": null,
      "outputs": [
        {
          "output_type": "stream",
          "text": [
            "The desired block is block 5\n"
          ],
          "name": "stdout"
        }
      ]
    },
    {
      "cell_type": "markdown",
      "metadata": {
        "id": "wb0d4SwyfAOW"
      },
      "source": [
        "*Viewing block 6*"
      ]
    },
    {
      "cell_type": "code",
      "metadata": {
        "id": "CREUHe7xfAOW",
        "colab": {
          "base_uri": "https://localhost:8080/"
        },
        "outputId": "441c5002-a9ae-4cc5-f9ec-c9cbe25084fb"
      },
      "source": [
        "voter_blockchain.view_block(6)"
      ],
      "execution_count": null,
      "outputs": [
        {
          "output_type": "stream",
          "text": [
            "Index number: 6\n",
            "Password: NNNICE_043\n",
            "Public_key: (145320634893847971220258739551424099461769113186518571211807453831773133407457358464550145670378923867962831782425314118053848990529231333348444095701345822122049224733643794960028922963308682150973103373559412516829382769807101454258535972823484169284022555573902889860946777953281253949076227300589634748571, 65537)\n",
            "Time_stamp: 1608240639.0666656\n",
            "Vote: Biden\n"
          ],
          "name": "stdout"
        }
      ]
    },
    {
      "cell_type": "markdown",
      "metadata": {
        "id": "9QEoNCERfAOX"
      },
      "source": [
        "*Validating block 6*"
      ]
    },
    {
      "cell_type": "code",
      "metadata": {
        "id": "Xr39wNngfAOX",
        "colab": {
          "base_uri": "https://localhost:8080/"
        },
        "outputId": "1b4f41db-6e17-41e7-d07c-7a4f9d02e103"
      },
      "source": [
        "voter_blockchain.validate_block(6, '07/11/2021 02:45PM')"
      ],
      "execution_count": null,
      "outputs": [
        {
          "output_type": "stream",
          "text": [
            "Valid Hash\n",
            "Valid Signature\n",
            "Valid timestamp\n"
          ],
          "name": "stdout"
        }
      ]
    },
    {
      "cell_type": "markdown",
      "metadata": {
        "id": "WW6lLkwDfAOX"
      },
      "source": [
        "*Stripping all public keys from the votechain*"
      ]
    },
    {
      "cell_type": "code",
      "metadata": {
        "id": "BJuznu1nfAOX",
        "colab": {
          "base_uri": "https://localhost:8080/"
        },
        "outputId": "c5ed5d8d-e616-4996-e863-7851b02c2199"
      },
      "source": [
        "voter_blockchain.strip_public_keys()\n",
        "print(' ')\n",
        "print('Showing block 1:\\n')\n",
        "voter_blockchain.view_block(1)"
      ],
      "execution_count": null,
      "outputs": [
        {
          "output_type": "stream",
          "text": [
            "All public keys set to 0\n",
            " \n",
            "Showing block 1:\n",
            "\n",
            "Index number: 1\n",
            "Password: XXC54372\n",
            "Public_key: 0\n",
            "Time_stamp: 1608240639.041016\n",
            "Vote: Dan Cox\n"
          ],
          "name": "stdout"
        }
      ]
    },
    {
      "cell_type": "code",
      "metadata": {
        "id": "zBxJ8P9SfAOX"
      },
      "source": [
        ""
      ],
      "execution_count": null,
      "outputs": []
    }
  ]
}